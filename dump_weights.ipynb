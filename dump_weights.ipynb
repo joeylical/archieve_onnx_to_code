{
 "cells": [
  {
   "cell_type": "code",
   "execution_count": 1,
   "metadata": {},
   "outputs": [
    {
     "name": "stdout",
     "output_type": "stream",
     "text": [
      "load ok\n"
     ]
    }
   ],
   "source": [
    "import onnx\n",
    "\n",
    "onnx_model = onnx.load('mnist.onnx')\n",
    "print('load ok')"
   ]
  },
  {
   "cell_type": "code",
   "execution_count": 2,
   "metadata": {},
   "outputs": [],
   "source": [
    "# print(dir(onnx_model.graph))\n",
    "# print(dir(onnx_model.graph.input))\n",
    "# print(dir(onnx_model.graph.output))\n",
    "# print(dir(onnx_model.graph.node[0]))\n",
    "# print(dir(onnx_model.graph.initializer[0]))"
   ]
  },
  {
   "cell_type": "code",
   "execution_count": 3,
   "metadata": {},
   "outputs": [],
   "source": [
    "from onnx import numpy_helper, shape_inference\n",
    "\n",
    "onnx_model = shape_inference.infer_shapes(onnx_model)\n",
    "\n",
    "nodes = onnx_model.graph.node\n",
    "weights = onnx_model.graph.initializer\n",
    "\n",
    "# print(onnx_model.graph.input, onnx_model.graph.output)\n",
    "\n",
    "# for node in nodes:\n",
    "#     print(node.name, node.input, node.output, node.op_type)\n",
    "\n",
    "# for weight in weights:\n",
    "#     print(weight.name, numpy_helper.to_array(weight).shape, len(numpy_helper.to_array(weight)))"
   ]
  },
  {
   "cell_type": "code",
   "execution_count": 4,
   "metadata": {},
   "outputs": [],
   "source": [
    "# layers = set()\n",
    "\n",
    "# for node in onnx_model.graph.input:\n",
    "#     layers.add(node.name)\n",
    "# for node in onnx_model.graph.output:\n",
    "#     layers.add(node.name)\n",
    "\n",
    "# for node in nodes:\n",
    "#     for n in node.input:\n",
    "#         layers.add(n)\n",
    "#     for n in node.output:\n",
    "#         layers.add(n)\n",
    "\n",
    "# print(layers)"
   ]
  },
  {
   "cell_type": "code",
   "execution_count": 5,
   "metadata": {},
   "outputs": [],
   "source": [
    "# print(dir(onnx_model.graph.input))"
   ]
  },
  {
   "cell_type": "code",
   "execution_count": 6,
   "metadata": {},
   "outputs": [],
   "source": [
    "# print([x.dim_value for x in onnx_model.graph.input[0].type.tensor_type.shape.dim])"
   ]
  },
  {
   "cell_type": "code",
   "execution_count": 7,
   "metadata": {},
   "outputs": [
    {
     "name": "stdout",
     "output_type": "stream",
     "text": [
      "input: \"input_1\"\n",
      "input: \"conv1.0.weight\"\n",
      "input: \"conv1.0.bias\"\n",
      "output: \"9\"\n",
      "name: \"Conv_0\"\n",
      "op_type: \"Conv\"\n",
      "attribute {\n",
      "  name: \"dilations\"\n",
      "  ints: 1\n",
      "  ints: 1\n",
      "  type: INTS\n",
      "}\n",
      "attribute {\n",
      "  name: \"group\"\n",
      "  i: 1\n",
      "  type: INT\n",
      "}\n",
      "attribute {\n",
      "  name: \"kernel_shape\"\n",
      "  ints: 3\n",
      "  ints: 3\n",
      "  type: INTS\n",
      "}\n",
      "attribute {\n",
      "  name: \"pads\"\n",
      "  ints: 1\n",
      "  ints: 1\n",
      "  ints: 1\n",
      "  ints: 1\n",
      "  type: INTS\n",
      "}\n",
      "attribute {\n",
      "  name: \"strides\"\n",
      "  ints: 1\n",
      "  ints: 1\n",
      "  type: INTS\n",
      "}\n",
      "\n"
     ]
    }
   ],
   "source": [
    "print(onnx_model.graph.node[0])"
   ]
  },
  {
   "cell_type": "code",
   "execution_count": 8,
   "metadata": {},
   "outputs": [
    {
     "name": "stdout",
     "output_type": "stream",
     "text": [
      "[2, 2]\n"
     ]
    }
   ],
   "source": [
    "print(onnx_model.graph.node[2].attribute[0].ints)"
   ]
  },
  {
   "cell_type": "code",
   "execution_count": 9,
   "metadata": {},
   "outputs": [
    {
     "data": {
      "text/plain": [
       "array([-1, 32], dtype=int64)"
      ]
     },
     "execution_count": 9,
     "metadata": {},
     "output_type": "execute_result"
    }
   ],
   "source": [
    "numpy_helper.to_array(onnx_model.graph.node[9].attribute[0].t)"
   ]
  },
  {
   "cell_type": "code",
   "execution_count": null,
   "metadata": {},
   "outputs": [],
   "source": []
  }
 ],
 "metadata": {
  "kernelspec": {
   "display_name": "Python 3",
   "language": "python",
   "name": "python3"
  },
  "language_info": {
   "codemirror_mode": {
    "name": "ipython",
    "version": 3
   },
   "file_extension": ".py",
   "mimetype": "text/x-python",
   "name": "python",
   "nbconvert_exporter": "python",
   "pygments_lexer": "ipython3",
   "version": "3.8.3"
  }
 },
 "nbformat": 4,
 "nbformat_minor": 4
}
