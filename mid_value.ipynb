{
 "cells": [
  {
   "cell_type": "code",
   "execution_count": 51,
   "metadata": {},
   "outputs": [
    {
     "name": "stdout",
     "output_type": "stream",
     "text": [
      "[0, 32, 112, 112]\n",
      "[0, 32, 112, 112]\n",
      "ok\n"
     ]
    }
   ],
   "source": [
    "import sys\n",
    "import numpy as np\n",
    "import onnx\n",
    "import onnx.helper as helper\n",
    "from onnx import numpy_helper\n",
    "\n",
    "layer = 'MobilenetV1/MobilenetV1/Conv2d_1_depthwise/BatchNorm/FusedBatchNorm:0'\n",
    "\n",
    "onnx_model = onnx.load(\"mobilenet_v1_1.0_224.onnx\")\n",
    "graph = onnx_model.graph\n",
    "node  = graph.node\n",
    "\n",
    "model_infer = onnx.shape_inference.infer_shapes(onnx_model)\n",
    "\n",
    "node_to_insert = 0\n",
    "for i in range(len(node)):\n",
    "    if layer == node[i].output[0]:\n",
    "        node_to_insert = i\n",
    "        break\n",
    "else:\n",
    "    print('not found')\n",
    "    0/0\n",
    "\n",
    "# for l in onnx_model.graph.initializer:\n",
    "#     if l.name == node[node_to_insert].input[1]:\n",
    "#         print(list(map(lambda x:x.astype('float64').astype('str'), numpy_helper.to_array(l)[1][1][1])))\n",
    "#         break\n",
    "        \n",
    "for vi in model_infer.graph.value_info:\n",
    "    if vi.name==node[node_to_insert].input[0]:\n",
    "        print([x.dim_value for x in vi.type.tensor_type.shape.dim])\n",
    "        break\n",
    "for vi in model_infer.graph.value_info:\n",
    "    if vi.name==node[node_to_insert].output[0]:\n",
    "        print([x.dim_value for x in vi.type.tensor_type.shape.dim])\n",
    "        break\n",
    "        \n",
    "for vi in model_infer.graph.value_info:\n",
    "    if vi.name==layer:\n",
    "        shape = [x.dim_value for x in vi.type.tensor_type.shape.dim]\n",
    "        break\n",
    "else:\n",
    "    print('not found')\n",
    "    0/0\n",
    "prob_info = helper.make_tensor_value_info(layer, onnx.TensorProto.FLOAT, shape)\n",
    "graph.output.insert(node_to_insert, prob_info)\n",
    "onnx.save(onnx_model, 'mobilenet_v1_1.0_224_1.onnx')\n",
    "\n",
    "import onnxruntime as rt\n",
    "from PIL import Image\n",
    "\n",
    "sess = rt.InferenceSession(\"mobilenet_v1_1.0_224_1.onnx\")\n",
    "img = Image.open('OIP.jpg')\n",
    "in_arr = np.array(img, dtype=np.float32)\n",
    "del img\n",
    "in_arr = in_arr.transpose(2,0,1)\n",
    "in_arr = (in_arr/255.-0.5)*2.0\n",
    "in_arr = in_arr.reshape(1,3,224,224)\n",
    "with open('img.dat', 'wb') as f:\n",
    "    f.write(in_arr.tobytes())\n",
    "\n",
    "# in_l = np.zeros((3, 225, 225), dtype=np.float32)\n",
    "# out_l = np.zeros((32, 112, 112), dtype=np.float32)\n",
    "\n",
    "# for l in onnx_model.graph.initializer:\n",
    "#     if l.name == node[node_to_insert].input[1]:\n",
    "# #         print(list(map(lambda x:x.astype('float64').astype('str'), numpy_helper.to_array(l)[1][1][1])))\n",
    "#         weight = numpy_helper.to_array(l)\n",
    "#     if l.name == node[node_to_insert].input[2]:\n",
    "#         bias = numpy_helper.to_array(l)\n",
    "\n",
    "# in_l[:,:-1,:-1] = in_arr\n",
    "\n",
    "# for co in range(32):\n",
    "#     out_l[co,:,:] = bias[co]\n",
    "#     for x in range(112):\n",
    "#         for y in range(112):\n",
    "#             su = np.float64(bias[co])\n",
    "#             for ci in range(3):\n",
    "#                 for m in range(3):\n",
    "#                     for n in range(3):\n",
    "#                         su += np.float64(in_l[ci,x*2+m,y*2+n])*np.float64(weight[co,ci,m,n])\n",
    "#             out_l[co,x,y] = su\n",
    "                        \n",
    "    \n",
    "inputs = {sess.get_inputs()[0].name: in_arr}\n",
    "out = sess.run([layer], inputs)\n",
    "print('ok')"
   ]
  },
  {
   "cell_type": "code",
   "execution_count": 119,
   "metadata": {},
   "outputs": [
    {
     "name": "stdout",
     "output_type": "stream",
     "text": [
      "(401408,)\n"
     ]
    }
   ],
   "source": [
    "o = out[0]\n",
    "o = o.reshape(-1)\n",
    "print(o.shape)"
   ]
  },
  {
   "cell_type": "code",
   "execution_count": 54,
   "metadata": {},
   "outputs": [
    {
     "name": "stdout",
     "output_type": "stream",
     "text": [
      "(401408,)\n",
      "5.679765973772321\n"
     ]
    }
   ],
   "source": [
    "with open('export.dat', 'rb') as f:\n",
    "    b = f.read()\n",
    "    \n",
    "a = np.frombuffer(b, dtype=np.float32)\n",
    "# a1 = out_l.reshape(-1)\n",
    "print(a.shape)\n",
    "# print(np.sum(np.abs(a1-o))/a1.size)\n",
    "print(np.sum(np.abs(a-o))/a.size)"
   ]
  },
  {
   "cell_type": "code",
   "execution_count": 36,
   "metadata": {},
   "outputs": [
    {
     "name": "stdout",
     "output_type": "stream",
     "text": [
      "(112, 112, 3)\n"
     ]
    },
    {
     "data": {
      "image/png": "[encoded data removed]",
      "text/plain": [
       "<PIL.Image.Image image mode=RGB size=112x112 at 0x2315AA98F70>"
      ]
     },
     "metadata": {},
     "output_type": "display_data"
    }
   ],
   "source": [
    "im = (a1!=o).astype(np.uint8)\n",
    "# im += 1.0\n",
    "im *= 250\n",
    "im = im.reshape(32, 112, 112)\n",
    "im = im[0:1,:,:]+np.zeros((3,112,112), dtype=np.uint8)\n",
    "im = im.transpose(1,2,0)\n",
    "print(im.shape)\n",
    "img = Image.fromarray(np.uint8(im))\n",
    "display(img)"
   ]
  },
  {
   "cell_type": "code",
   "execution_count": 47,
   "metadata": {},
   "outputs": [
    {
     "data": {
      "text/plain": [
       "array([0., 0., 0., 0., 0., 0., 0., 0., 0., 0.], dtype=float32)"
      ]
     },
     "execution_count": 47,
     "metadata": {},
     "output_type": "execute_result"
    }
   ],
   "source": [
    "o[:10]"
   ]
  },
  {
   "cell_type": "code",
   "execution_count": 48,
   "metadata": {},
   "outputs": [
    {
     "data": {
      "text/plain": [
       "array([-0., -0., -0., -0., -0., -0., -0., -0., -0., -0.], dtype=float32)"
      ]
     },
     "execution_count": 48,
     "metadata": {},
     "output_type": "execute_result"
    }
   ],
   "source": [
    "a[:10]"
   ]
  },
  {
   "cell_type": "code",
   "execution_count": 49,
   "metadata": {},
   "outputs": [
    {
     "data": {
      "text/plain": [
       "array([-0., -0., -0., -0., -0., -0., -0., -0., -0., -0., -0., -0., -0.,\n",
       "       -0., -0., -0., -0., -0., -0., -0., -0., -0., -0., -0., -0., -0.,\n",
       "       -0., -0., -0., -0., -0., -0., -0., -0., -0., -0., -0., -0., -0.,\n",
       "       -0., -0., -0., -0., -0., -0., -0., -0., -0., -0., -0., -0., -0.,\n",
       "       -0., -0., -0., -0., -0., -0., -0., -0., -0., -0., -0., -0., -0.,\n",
       "       -0., -0., -0., -0., -0., -0., -0., -0., -0., -0., -0., -0., -0.,\n",
       "       -0., -0., -0., -0., -0., -0., -0., -0., -0., -0., -0., -0., -0.,\n",
       "       -0., -0., -0., -0., -0., -0., -0., -0., -0.], dtype=float32)"
      ]
     },
     "execution_count": 49,
     "metadata": {},
     "output_type": "execute_result"
    }
   ],
   "source": [
    "a[:100]-o[:100]"
   ]
  },
  {
   "cell_type": "code",
   "execution_count": 19,
   "metadata": {},
   "outputs": [
    {
     "data": {
      "text/plain": [
       "234630"
      ]
     },
     "execution_count": 19,
     "metadata": {},
     "output_type": "execute_result"
    }
   ],
   "source": [
    "np.argmax(a1-o)"
   ]
  },
  {
   "cell_type": "code",
   "execution_count": 144,
   "metadata": {},
   "outputs": [],
   "source": [
    "B = np.array([\n",
    "    -1.171126127243042,\n",
    "    0.5819808840751648,\n",
    "    0.6790149211883545,\n",
    "    -0.42340219020843506,\n",
    "    1.7030929327011108,\n",
    "    0.9571624994277954,\n",
    "    -0.8229854106903076,\n",
    "    3.171541929244995,\n",
    "    -0.8525885939598083,\n",
    "    -0.78580641746521,\n",
    "    -0.960985004901886,\n",
    "    3.595393180847168,\n",
    "    2.09940767288208,\n",
    "    1.829443097114563,\n",
    "    -0.44398707151412964,\n",
    "    2.1895999908447266,\n",
    "    0.16186827421188354,\n",
    "    3.2713027000427246,\n",
    "    0.4981716275215149,\n",
    "    1.2559545040130615,\n",
    "    -0.7746003866195679,\n",
    "    4.413620948791504,\n",
    "    -1.003190040588379,\n",
    "    1.6349468231201172,\n",
    "    0.19251137971878052,\n",
    "    -3.006516695022583,\n",
    "    1.3629865646362305,\n",
    "    -0.9093892574310303,\n",
    "    2.9020111560821533,\n",
    "    -0.14252325892448425,\n",
    "    -0.9508225321769714,\n",
    "    4.262905120849609\n",
    "], dtype=np.float64)\n",
    "scale = np.array(\n",
    "[\n",
    "    -0.020057253539562225,\n",
    "    1.523036241531372,\n",
    "    0.29303574562072754,\n",
    "    0.07929041236639023,\n",
    "    0.9612151980400085,\n",
    "    0.9468568563461304,\n",
    "    0.940824568271637,\n",
    "    0.6036416888237,\n",
    "    0.055359844118356705,\n",
    "    0.45270344614982605,\n",
    "    0.19307057559490204,\n",
    "    0.7964275479316711,\n",
    "    0.3261885344982147,\n",
    "    0.5713300108909607,\n",
    "    -0.09445980191230774,\n",
    "    1.6081569194793701,\n",
    "    0.2527218759059906,\n",
    "    0.6122488379478455,\n",
    "    0.3796830475330353,\n",
    "    1.0942178964614868,\n",
    "    0.5041667819023132,\n",
    "    0.4620940089225769,\n",
    "    0.6963729858398438,\n",
    "    2.846270799636841,\n",
    "    0.42337173223495483,\n",
    "    2.6107053756713867,\n",
    "    0.5666133165359497,\n",
    "    0.4654908776283264,\n",
    "    0.7102997303009033,\n",
    "    0.5806434750556946,\n",
    "    0.1987481564283371,\n",
    "    2.0898356437683105\n",
    "], dtype=np.float64)\n",
    "\n",
    "test = a.reshape(32, -1)\n",
    "\n",
    "i_mean = np.array(\n",
    "[\n",
    "    3.917503958825389e-35,\n",
    "    0.28208330273628235,\n",
    "    1.1848763227462769,\n",
    "    -3.917354726144132e-35,\n",
    "    0.07953180372714996,\n",
    "    0.030578307807445526,\n",
    "    -15.05494213104248,\n",
    "    18.597095489501953,\n",
    "    3.91751916907944e-35,\n",
    "    3.91733320219972e-35,\n",
    "    3.9176741414792067e-35,\n",
    "    -4.362099647521973,\n",
    "    -8.909856796264648,\n",
    "    4.106906890869141,\n",
    "    0.7918813824653625,\n",
    "    -0.07907374203205109,\n",
    "    1.758318543434143,\n",
    "    -31.090944290161133,\n",
    "    -7.286807060241699,\n",
    "    1.0357974767684937,\n",
    "    -3.9181668963132794e-35,\n",
    "    -1.1997970342636108,\n",
    "    3.9173334891856457e-35,\n",
    "    -0.1061849519610405,\n",
    "    3.9175013759520595e-35,\n",
    "    -11.351835250854492,\n",
    "    -29.105886459350586,\n",
    "    -3.9173323412419437e-35,\n",
    "    0.8830111026763916,\n",
    "    -7.368995189666748,\n",
    "    -3.918003314335748e-35,\n",
    "    -0.10941750556230545\n",
    "], dtype=np.float64)\n",
    "\n",
    "i_var = np.array(\n",
    "[\n",
    "    3.9175008019802085e-35,\n",
    "    42.61931610107422,\n",
    "    5.472645282745361,\n",
    "    3.917695952409544e-35,\n",
    "    3.469939947128296,\n",
    "    12.791449546813965,\n",
    "    173.66514587402344,\n",
    "    3.807770252227783,\n",
    "    3.9173280364530613e-35,\n",
    "    3.917331480284167e-35,\n",
    "    3.9175002280083575e-35,\n",
    "    33.72078323364258,\n",
    "    36.020347595214844,\n",
    "    0.9797129034996033,\n",
    "    0.12145622819662094,\n",
    "    52.8525505065918,\n",
    "    18.041948318481445,\n",
    "    48.75825881958008,\n",
    "    68.78904724121094,\n",
    "    2.0624709129333496,\n",
    "    3.918157999749589e-35,\n",
    "    4.279865741729736,\n",
    "    3.91799872256094e-35,\n",
    "    180.7408905029297,\n",
    "    3.9175008019802085e-35,\n",
    "    36.83135986328125,\n",
    "    9.442036628723145,\n",
    "    3.918162017552546e-35,\n",
    "    38.58580017089844,\n",
    "    32.53718948364258,\n",
    "    3.9179990095468656e-35,\n",
    "    58.32778549194336\n",
    "], dtype=np.float64)"
   ]
  },
  {
   "cell_type": "code",
   "execution_count": 150,
   "metadata": {},
   "outputs": [
    {
     "name": "stdout",
     "output_type": "stream",
     "text": [
      "0.009062382778713124\n"
     ]
    }
   ],
   "source": [
    "mean = test.mean(axis=1).reshape(32,1)*0.1 + i_mean.reshape(32,1)*0.9\n",
    "var = test.var(axis=1).reshape(32,1)*0.1 + i_var.reshape(32,1)*0.9\n",
    "r = scale.reshape(32,1)*(test-mean)/np.sqrt(var+1e-03) +B.reshape(32,1)\n",
    "# r = scale.reshape(32,1)*(test-mean)+B.reshape(32,1)\n",
    "# r = (test-mean)/np.sqrt(var+1e-03)\n",
    "\n",
    "# r = np.zeros((32, 112*112), dtype=np.float64)\n",
    "# r[0] = scale[0]*(test[0]-mean[0])/np.sqrt(var[0]+1e-3) + B[0]\n",
    "# last_mean = np.float64(mean[0])\n",
    "# last_var = np.float64(var[0])\n",
    "# for i in range(1, 32):\n",
    "#     m = 0.9*mean[i]+0.1*last_mean\n",
    "#     v = 0.9*var[i]+0.1*last_var\n",
    "#     r[i] = scale[i]*(test[i]-m)/np.sqrt(v+1e-3) + B[i]\n",
    "#     last_mean = m\n",
    "#     last_var = v\n",
    "\n",
    "print(np.sum(np.abs(r.reshape(-1)-o))/a.size)"
   ]
  },
  {
   "cell_type": "code",
   "execution_count": null,
   "metadata": {},
   "outputs": [],
   "source": []
  }
 ],
 "metadata": {
  "kernelspec": {
   "display_name": "Python 3",
   "language": "python",
   "name": "python3"
  },
  "language_info": {
   "codemirror_mode": {
    "name": "ipython",
    "version": 3
   },
   "file_extension": ".py",
   "mimetype": "text/x-python",
   "name": "python",
   "nbconvert_exporter": "python",
   "pygments_lexer": "ipython3",
   "version": "3.8.3"
  }
 },
 "nbformat": 4,
 "nbformat_minor": 4
}
